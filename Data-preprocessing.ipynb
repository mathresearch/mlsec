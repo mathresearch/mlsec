{
 "cells": [
  {
   "cell_type": "markdown",
   "metadata": {},
   "source": [
    "# Data preprocessing"
   ]
  },
  {
   "cell_type": "markdown",
   "metadata": {},
   "source": [
    "This notebook was tested on a standard Amazon SageMaker notebook (ml.m5.2xlarge) with a \"conda_python3\" kernel."
   ]
  },
  {
   "cell_type": "markdown",
   "metadata": {},
   "source": [
    "## Initial data extraction"
   ]
  },
  {
   "cell_type": "markdown",
   "metadata": {},
   "source": [
    "Before running the notebook, you should upload the `htmldata.tar.gz` file to this notebook. If the file is in S3, you can copy it from there:\n",
    "```python \n",
    "%%sh\n",
    "aws s3 cp s3://YOURBUCKET/htmldata.tar.gz .\n",
    "```"
   ]
  },
  {
   "cell_type": "markdown",
   "metadata": {},
   "source": [
    "Once the data is in your notebook, you can untar it:\n",
    "```python\n",
    "%%sh\n",
    "tar xvfz htmldata.tar.gz\n",
    "```"
   ]
  },
  {
   "cell_type": "markdown",
   "metadata": {},
   "source": [
    "After that, you will have the html folder with the decompressed files in your notebook."
   ]
  },
  {
   "cell_type": "markdown",
   "metadata": {},
   "source": [
    "The `data_recordio.py` script must be uploaded in the same folder as this notebook."
   ]
  },
  {
   "cell_type": "markdown",
   "metadata": {},
   "source": [
    "## Libraries installation"
   ]
  },
  {
   "cell_type": "markdown",
   "metadata": {},
   "source": [
    "First we install two libraries that are used by the `data_recordio.py` script."
   ]
  },
  {
   "cell_type": "code",
   "execution_count": 4,
   "metadata": {},
   "outputs": [
    {
     "name": "stdout",
     "output_type": "stream",
     "text": [
      "Collecting mmh3\n",
      "  Downloading mmh3-2.5.1.tar.gz (9.8 kB)\n",
      "Building wheels for collected packages: mmh3\n",
      "  Building wheel for mmh3 (setup.py) ... \u001b[?25ldone\n",
      "\u001b[?25h  Created wheel for mmh3: filename=mmh3-2.5.1-cp36-cp36m-linux_x86_64.whl size=24895 sha256=14869a05a1e3d03588a920065ebf421b18585e040cc4ba3402f78ac9c3cde047\n",
      "  Stored in directory: /home/ec2-user/.cache/pip/wheels/cc/3a/98/fc5e7f8e1840cf6dcf2435260b29661db90a0b22dbd2739df6\n",
      "Successfully built mmh3\n",
      "Installing collected packages: mmh3\n",
      "Successfully installed mmh3-2.5.1\n",
      "\u001b[33mWARNING: You are using pip version 20.0.2; however, version 20.1.1 is available.\n",
      "You should consider upgrading via the '/home/ec2-user/anaconda3/envs/python3/bin/python -m pip install --upgrade pip' command.\u001b[0m\n"
     ]
    }
   ],
   "source": [
    "!pip install mmh3"
   ]
  },
  {
   "cell_type": "code",
   "execution_count": 6,
   "metadata": {},
   "outputs": [
    {
     "name": "stdout",
     "output_type": "stream",
     "text": [
      "Collecting mxnet\n",
      "  Downloading mxnet-1.6.0-py2.py3-none-any.whl (68.7 MB)\n",
      "\u001b[K     |████████████████████████████████| 68.7 MB 92 kB/s s eta 0:00:01\n",
      "\u001b[?25hRequirement already satisfied: numpy<2.0.0,>1.16.0 in /home/ec2-user/anaconda3/envs/python3/lib/python3.6/site-packages (from mxnet) (1.18.1)\n",
      "Collecting graphviz<0.9.0,>=0.8.1\n",
      "  Downloading graphviz-0.8.4-py2.py3-none-any.whl (16 kB)\n",
      "Requirement already satisfied: requests<3,>=2.20.0 in /home/ec2-user/anaconda3/envs/python3/lib/python3.6/site-packages (from mxnet) (2.23.0)\n",
      "Requirement already satisfied: idna<3,>=2.5 in /home/ec2-user/anaconda3/envs/python3/lib/python3.6/site-packages (from requests<3,>=2.20.0->mxnet) (2.9)\n",
      "Requirement already satisfied: chardet<4,>=3.0.2 in /home/ec2-user/anaconda3/envs/python3/lib/python3.6/site-packages (from requests<3,>=2.20.0->mxnet) (3.0.4)\n",
      "Requirement already satisfied: certifi>=2017.4.17 in /home/ec2-user/anaconda3/envs/python3/lib/python3.6/site-packages (from requests<3,>=2.20.0->mxnet) (2020.4.5.2)\n",
      "Requirement already satisfied: urllib3!=1.25.0,!=1.25.1,<1.26,>=1.21.1 in /home/ec2-user/anaconda3/envs/python3/lib/python3.6/site-packages (from requests<3,>=2.20.0->mxnet) (1.25.8)\n",
      "Installing collected packages: graphviz, mxnet\n",
      "Successfully installed graphviz-0.8.4 mxnet-1.6.0\n",
      "\u001b[33mWARNING: You are using pip version 20.0.2; however, version 20.1.1 is available.\n",
      "You should consider upgrading via the '/home/ec2-user/anaconda3/envs/python3/bin/python -m pip install --upgrade pip' command.\u001b[0m\n"
     ]
    }
   ],
   "source": [
    "!pip install mxnet"
   ]
  },
  {
   "cell_type": "markdown",
   "metadata": {},
   "source": [
    "## Execution of `data_recordio.py` script"
   ]
  },
  {
   "cell_type": "markdown",
   "metadata": {},
   "source": [
    "We execute the script for the training files. This script will output 3 files in the root folder of your notebook:\n",
    "- `output-file_train.lst`\n",
    "- `output-train.idx`\n",
    "- `output-train.rec`"
   ]
  },
  {
   "cell_type": "code",
   "execution_count": 45,
   "metadata": {},
   "outputs": [
    {
     "name": "stdout",
     "output_type": "stream",
     "text": [
      "usage: data_recordio.py [-h] --benign BENIGN --malicious MALICIOUS --output\n",
      "                        OUTPUT [--train] [--val] [--feature-size FEATURE_SIZE]\n",
      "                        [--shuffle] [--seed SEED] [--num-thread NUM_THREAD]\n",
      "data_recordio.py: error: the following arguments are required: --output\n"
     ]
    }
   ],
   "source": [
    "!python data_recordio.py --benign html/benign_files/training --malicious html/malicious_files/training --output output- --shuffle --num-thread 8 --train"
   ]
  },
  {
   "cell_type": "markdown",
   "metadata": {},
   "source": [
    "In the same way, we execute the script for the training files. This script will output 3 files in the root folder of your notebook:\n",
    "- `output-file_validation.lst`\n",
    "- `output-validation.idx`\n",
    "- `output-validation.rec`"
   ]
  },
  {
   "cell_type": "code",
   "execution_count": 41,
   "metadata": {},
   "outputs": [
    {
     "name": "stdout",
     "output_type": "stream",
     "text": [
      "INFO:root:Namespace(benign='html/benign_files/validation', feature_size=1024, malicious='html/malicious_files/validation', num_thread=8, output='output-', seed=999, shuffle=True, train=False, val=True)\n",
      "INFO:root:Creating a .lst file...\n",
      "INFO:root:Creating a .rec and .idx file using multiprocessing...\n"
     ]
    }
   ],
   "source": [
    "!python data_recordio.py --benign html/benign_files/validation --malicious html/malicious_files/validation --output output- --shuffle --num-thread 8 --val"
   ]
  },
  {
   "cell_type": "markdown",
   "metadata": {},
   "source": [
    "## Upload of the new files to S3"
   ]
  },
  {
   "cell_type": "markdown",
   "metadata": {},
   "source": [
    "When the files are created in your notebook, upload the `.idx` and `.rec` files to your S3 bucket (change the name of the bucket to yours)."
   ]
  },
  {
   "cell_type": "code",
   "execution_count": 44,
   "metadata": {},
   "outputs": [
    {
     "name": "stdout",
     "output_type": "stream",
     "text": [
      "upload: ./output-train.rec to s3://sagemaker-nnmwd/output-train.rec \n",
      "upload: ./output-train.idx to s3://sagemaker-nnmwd/output-train.idx\n",
      "upload: ./output-val.rec to s3://sagemaker-nnmwd/output-val.rec   \n",
      "upload: ./output-val.idx to s3://sagemaker-nnmwd/output-val.idx   \n"
     ]
    }
   ],
   "source": [
    "%%sh\n",
    "aws s3 cp output-train.rec s3://YOURBUCKET\n",
    "aws s3 cp output-train.idx s3://YOURBUCKET\n",
    "aws s3 cp output-val.rec s3://YOURBUCKET\n",
    "aws s3 cp output-val.idx s3://YOURBUCKET"
   ]
  },
  {
   "cell_type": "code",
   "execution_count": null,
   "metadata": {},
   "outputs": [],
   "source": []
  }
 ],
 "metadata": {
  "kernelspec": {
   "display_name": "conda_python3",
   "language": "python",
   "name": "conda_python3"
  },
  "language_info": {
   "codemirror_mode": {
    "name": "ipython",
    "version": 3
   },
   "file_extension": ".py",
   "mimetype": "text/x-python",
   "name": "python",
   "nbconvert_exporter": "python",
   "pygments_lexer": "ipython3",
   "version": "3.6.10"
  }
 },
 "nbformat": 4,
 "nbformat_minor": 4
}
